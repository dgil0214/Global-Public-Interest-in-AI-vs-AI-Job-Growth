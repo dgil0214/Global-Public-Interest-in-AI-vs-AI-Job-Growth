#connecting to mySQL
from sqlalchemy import create_engine
# Your MySQL credentials
username = "root"        # e.g. "root"
password = "%Mail1226="        # e.g. "admin123"
host = "localhost"                # or IP address of remote server
port = "3306"                     # default MySQL port
database = "jobs_and_ai"   # e.g. "ai_project"

# Create engine
engine = create_engine(f"mysql+mysqlconnector://{username}:{password}@{host}:{port}/{database}")

ai_job.to_sql("ai_jobs", con=engine, if_exists="replace", index=False)
AI_interest.to_sql("ai_interest", con=engine, if_exists="replace", index=False)

#-- Does public interest in AI correlate with AI job growth?

#Query from SQL

query_1 = """
SELECT 
	i.Date,
    percent_of_jobs,
    Germany,
    UK,
    USA
FROM ai_interest AS i
LEFT JOIN ai_jobs AS j ON j.Date = i.Date 
"""
#run query and store in dataframe
corr_with_interest= pd.read_sql(query_1, con=engine)

sns.bar( corr_with_interest)
