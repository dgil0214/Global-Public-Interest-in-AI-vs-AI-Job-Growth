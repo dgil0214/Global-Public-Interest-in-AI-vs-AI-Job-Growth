{
 "cells": [
  {
   "cell_type": "markdown",
   "metadata": {},
   "source": [
    "#  AI Interest vs. AI Job Growth (Germany, USA, UK)\n",
    "\n",
    "> **Research questions**\n",
    "> 1. *Trend linkage:* Do public‑interest spikes in AI (Google Trends) align with growth in AI‑related job postings?\n",
    "> 2. *Impact of ChatGPT:* How much has each country’s share of AI jobs changed since ChatGPT’s release on **30 Nov 2020**?\n"
   ]
  },
  {
   "cell_type": "markdown",
   "metadata": {},
   "source": [
    "## Data Sources and Preparation\n",
    "\n",
    "### Where I got the data:\n",
    "\n",
    "- **Google Trends data:**  \n",
    "  Retrieved daily “AI” interest scores for Germany, USA, and UK from [Google Trends](https://trends.google.com).  \n",
    "  Exported as CSV \n",
    "\n",
    "- **AI Job Data:**  \n",
    "  Collected from **Indeed’s** public job listings database, focusing on AI-related jobs by country and date.  \n",
    "  Exported as CSV .\n",
    "\n",
    "### Notes on data:\n",
    "\n",
    "- The Google Trends interest scores range from 0 to 100 and reflect relative search interest.  \n",
    "- The AI job data shows the percentage of job postings tagged with AI-related keywords out of total jobs for that day and country.  \n",
    "- Data covers from January 2020 to March 2025.\n",
    "\n",
    "---\n",
    "\n",
    "### Why I used these sources\n",
    "\n",
    "- Google Trends gives a proxy for public interest and awareness.  \n",
    "- Indeed job data approximates actual market demand for AI skills.  \n",
    "- Comparing them can reveal if interest and jobs move together or diverge.\n",
    "\n",
    "---\n",
    "\n",
    "### How I saved & loaded the data\n",
    "\n",
    "- Both datasets were exported as CSV for ease of processing in Python and SQL.  \n",
    "- Loaded in Python with `pd.read_csv()` using `parse_dates` on the date column for proper time series handling.\n",
    "\n",
    "---\n",
    "\n"
   ]
  },
  {
   "cell_type": "markdown",
   "metadata": {},
   "source": [
    "## 1 Cleaning \n",
    "\n",
    "Goal: Clean data, drop na values\n",
    "\n",
    "Main issue I had was the csv files and wrangling them into one df. Google trends only exports one country at a time. So what I did was merge the three csv files on AI intrests from google. I believe this caused me some problems later on."
   ]
  },
  {
   "cell_type": "code",
   "execution_count": 429,
   "metadata": {},
   "outputs": [],
   "source": [
    "import pandas as pd\n",
    "import numpy as np\n",
    "import mysql.connector\n",
    "import seaborn as sns\n",
    "import matplotlib.pyplot as plt\n",
    "from numpy import mean"
   ]
  },
  {
   "cell_type": "code",
   "execution_count": 430,
   "metadata": {},
   "outputs": [],
   "source": [
    "#importing the terms csv data obtained from the internet and creating Dataframe\n",
    "Germany_interest= pd.DataFrame(pd.read_csv(\"Germany_interest.csv\", header =1))\n",
    "UK_interest= pd.DataFrame(pd.read_csv(\"UK_interest.csv\", header =1))\n",
    "USA_interest= pd.DataFrame(pd.read_csv(\"USA_interest.csv\", header =1))\n",
    "\n",
    "#Note, I had to learn what header was in this"
   ]
  },
  {
   "cell_type": "code",
   "execution_count": 431,
   "metadata": {},
   "outputs": [],
   "source": [
    "#Cleaning up term datasets \n",
    "#drop NA from AI term \n",
    "\n",
    "Germany_interest.dropna(inplace=True)\n",
    "\n",
    "#drop NA from Chat gpt terms\n",
    "UK_interest.dropna(inplace=True)\n",
    "\n",
    "#drop NA from USA interest\n",
    "USA_interest.dropna(inplace=True)"
   ]
  },
  {
   "cell_type": "markdown",
   "metadata": {},
   "source": [
    "Merging the AI interest df to work on sql "
   ]
  },
  {
   "cell_type": "code",
   "execution_count": 432,
   "metadata": {},
   "outputs": [],
   "source": [
    "#First 2 table merge\n",
    "Combined_table  = pd.merge(Germany_interest, UK_interest, left_on='Week', right_on='Week')\n",
    "\n",
    "#Final merged table\n",
    "AI_interest= pd.merge(Combined_table, USA_interest, left_on='Week', right_on='Week')\n",
    "AI_interest['Week']= pd.to_datetime(AI_interest['Week'])"
   ]
  },
  {
   "cell_type": "code",
   "execution_count": 433,
   "metadata": {},
   "outputs": [],
   "source": [
    "#Rename columns\n",
    "AI_interest.rename(columns={'ai: (Germany)':'Germany','ai: (United Kingdom)':'UK','ai: (United States)':'USA', 'Week':'Date'}, inplace=True)"
   ]
  },
  {
   "cell_type": "code",
   "execution_count": 434,
   "metadata": {},
   "outputs": [],
   "source": [
    "#Importing ai jobs data\n",
    "ai_job = pd.DataFrame(pd.read_csv(\"USA_UK_GERMANY_JOB AI.csv\"))"
   ]
  },
  {
   "cell_type": "markdown",
   "metadata": {},
   "source": [
    "Had some issues here with the column name '___typename'. There was a hidden blank somewhere making it hard to drop."
   ]
  },
  {
   "cell_type": "code",
   "execution_count": 435,
   "metadata": {},
   "outputs": [],
   "source": [
    "#dropping columns I don't need\n",
    "ai_job.drop(columns=['__typename'], inplace=True)"
   ]
  },
  {
   "cell_type": "code",
   "execution_count": 436,
   "metadata": {},
   "outputs": [],
   "source": [
    "#renaming columns\n",
    "ai_job.rename(columns={'dateString':'Date', 'value':'percent_of_jobs'}, inplace=True)\n",
    "ai_job_df = ai_job.groupby('Date').mean(numeric_only=True).reset_index()"
   ]
  },
  {
   "cell_type": "markdown",
   "metadata": {},
   "source": [
    "## Connecting to MYSQL and exporting tables to query \n",
    "\n",
    "I wanted to work with SQL to answer my questions. I learned how to actually import queries into python directly instead of exporting each query as a CSV as I did in my previous project. "
   ]
  },
  {
   "cell_type": "code",
   "execution_count": 437,
   "metadata": {},
   "outputs": [
    {
     "data": {
      "text/plain": [
       "262"
      ]
     },
     "execution_count": 437,
     "metadata": {},
     "output_type": "execute_result"
    }
   ],
   "source": [
    "#connecting to mySQL\n",
    "from sqlalchemy import create_engine\n",
    "# Your MySQL credentials\n",
    "username = \"root\"        # e.g. \"root\"\n",
    "password = \"%Mail1226=\"        # e.g. \"admin123\"\n",
    "host = \"localhost\"                # or IP address of remote server\n",
    "port = \"3306\"                     # default MySQL port\n",
    "database = \"jobs_and_ai\"   # e.g. \"ai_project\"\n",
    "\n",
    "# Create engine\n",
    "engine = create_engine(f\"mysql+mysqlconnector://{username}:{password}@{host}:{port}/{database}\")\n",
    "\n",
    "ai_job.to_sql(\"ai_jobs\", con=engine, if_exists=\"replace\", index=False)\n",
    "AI_interest.to_sql(\"ai_interest\", con=engine, if_exists=\"replace\", index=False)"
   ]
  },
  {
   "cell_type": "code",
   "execution_count": 438,
   "metadata": {},
   "outputs": [],
   "source": [
    "#Query from SQL\n",
    "\n",
    "job_growth_vs_interest_query = \"\"\"\n",
    "SELECT \n",
    "\tDISTINCT i.Date,\n",
    "    percent_of_jobs,\n",
    "    Germany,\n",
    "    UK,\n",
    "    USA\n",
    "FROM ai_interest AS i\n",
    "LEFT JOIN ai_jobs AS j ON j.Date = i.Date \n",
    "\"\"\"\n",
    "job_percent_change_since_GPT_launch = \"\"\"\n",
    "WITH gpt_launch AS (SELECT \n",
    "date,\n",
    "countryName,\n",
    "percent_of_jobs\n",
    "FROM ai_jobs\n",
    "WHERE  date = '2020-11-30'),\n",
    "\n",
    "gpt_current AS(SELECT \n",
    "date,\n",
    "countryName,\n",
    "percent_of_jobs\n",
    "FROM ai_jobs\n",
    "WHERE  date = '2025-03-30')\n",
    "\n",
    "\n",
    "SELECT\n",
    "  gpt_launch.countryName,\n",
    " (CASE\n",
    "  WHEN gpt_current.countryName = 'Germany' THEN ROUND(((gpt_current.percent_of_jobs-gpt_launch.percent_of_jobs)/gpt_launch.percent_of_jobs) *100 , 1)\n",
    "  WHEN gpt_current.countryName = 'United States' THEN ROUND(((gpt_current.percent_of_jobs-gpt_launch.percent_of_jobs)/gpt_launch.percent_of_jobs) *100 , 1)\n",
    "   WHEN gpt_current.countryName = 'United Kingdom' THEN ROUND(((gpt_current.percent_of_jobs-gpt_launch.percent_of_jobs)/gpt_launch.percent_of_jobs) *100 , 1)\n",
    "  END) AS Job_percent_change_since_GPT_launch\n",
    " FROM gpt_launch\n",
    " JOIN gpt_current ON gpt_launch.countryName = gpt_current.countryName\n",
    "\n",
    "\"\"\"\n",
    "#run queries and store in dataframe\n",
    "corr_with_interest= pd.read_sql(job_growth_vs_interest_query, con=engine)\n",
    "job_growth_since_gpt= pd.read_sql(job_percent_change_since_GPT_launch, con=engine)\n",
    "\n",
    "\n",
    "#\n"
   ]
  },
  {
   "cell_type": "markdown",
   "metadata": {},
   "source": [
    "### Main project difficulty\n",
    "By far the most difficult part in this project. I need to learn how to clean data on python better. I was having trouble because 3 identical dates were showing up and it was not plotting correctly. Also, the values were different. The google trend values were 0-100 and the Indeed data was in percentages. \n",
    "\n",
    "TLDR: I scaled different columns so they’re all on the same 0-to-1 scale, renamed them for clarity, and reshaped the data to plot it nicely."
   ]
  },
  {
   "cell_type": "code",
   "execution_count": 439,
   "metadata": {},
   "outputs": [],
   "source": [
    "\n",
    "\n",
    "\n",
    "#Normalizing the columns\n",
    "orig_cols = ['percent_of_jobs', 'Germany', 'USA', 'UK']\n",
    "\n",
    "#Scaling to 1 by dividing by each column's max value\n",
    "norm = corr_with_interest[orig_cols].div(corr_with_interest[orig_cols].max(), axis=1)\n",
    "\n",
    "#renaming normalized columns to avoid confusion\n",
    "norm.columns = ['Percent_of_jobs_with_AI',\n",
    "    'Germany_AI_interest',\n",
    "    'USA_AI_Interest',\n",
    "    'UK_AI_Interest']\n",
    "#join normalized data to main data\n",
    "corr = corr_with_interest.join(norm)\n",
    "\n",
    "#REshape from wide to long so I could plot it better\n",
    "long = corr.melt(\n",
    "    id_vars='Date',                      \n",
    "    value_vars= ['Percent_of_jobs_with_AI',\n",
    "    'Germany_AI_interest',\n",
    "    'USA_AI_Interest',\n",
    "    'UK_AI_Interest'],\n",
    "    var_name='series',\n",
    "    value_name='value'\n",
    ")\n"
   ]
  },
  {
   "cell_type": "markdown",
   "metadata": {},
   "source": [
    "## Results & visualisation "
   ]
  },
  {
   "cell_type": "code",
   "execution_count": null,
   "metadata": {},
   "outputs": [],
   "source": [
    "#Making first graph....I learned that I have to use ax when I'm using seaborn and want to use plt stuff\n",
    "\n",
    "ax=sns.lineplot(data=long, x='Date', y='value', hue='series', ci=None)\n",
    "ax.legend(fontsize ='small')\n",
    "ax.set(ylim=(0, 1.2))  \n",
    "ax.margins(x=0) \n",
    "ax.autoscale_view()  \n",
    "ax.set_title('AI job growth VS AI interest')\n",
    "\n"
   ]
  },
  {
   "cell_type": "markdown",
   "metadata": {},
   "source": []
  },
  {
   "cell_type": "code",
   "execution_count": null,
   "metadata": {},
   "outputs": [
    {
     "data": {
      "text/plain": [
       "[Text(0, 0, '29.1%'), Text(0, 0, '16.6%'), Text(0, 0, '39.3%')]"
      ]
     },
     "execution_count": 428,
     "metadata": {},
     "output_type": "execute_result"
    },
    {
     "data": {
      "image/png": "[encoded data removed]",
      "text/plain": [
       "<Figure size 640x480 with 1 Axes>"
      ]
     },
     "metadata": {},
     "output_type": "display_data"
    }
   ],
   "source": [
    "ax=sns.barplot(data=job_growth_since_gpt, x='countryName', y='Job_percent_change_since_GPT_launch', width=.8)\n",
    "ax.autoscale_view()  \n",
    "ax.set_title('AI job percentage change since GPT launch')\n",
    "ax.set_xlabel('')\n",
    "ax.set_ylabel('Percent')\n",
    "#Learned the argument inside to place the label\n",
    "ax.bar_label(ax.containers[0], fmt='%.1f%%')"
   ]
  }
 ],
 "metadata": {
  "kernelspec": {
   "display_name": "Python 3",
   "language": "python",
   "name": "python3"
  },
  "language_info": {
   "codemirror_mode": {
    "name": "ipython",
    "version": 3
   },
   "file_extension": ".py",
   "mimetype": "text/x-python",
   "name": "python",
   "nbconvert_exporter": "python",
   "pygments_lexer": "ipython3",
   "version": "3.11.5"
  }
 },
 "nbformat": 4,
 "nbformat_minor": 2
}
